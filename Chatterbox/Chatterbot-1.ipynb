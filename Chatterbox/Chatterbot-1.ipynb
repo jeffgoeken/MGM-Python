{
 "cells": [
  {
   "cell_type": "code",
   "execution_count": 34,
   "metadata": {},
   "outputs": [],
   "source": [
    "from chatterbot import ChatBot\n",
    "from chatterbot.trainers import ListTrainer\n",
    "\n",
    "class chatbot:\n",
    "    def __init__(self,Botname):\n",
    "        self.bot = ChatBot(Botname, read_only = True)\n",
    "        self.trainor = ListTrainer(self.bot)\n",
    "\n",
    "        self.runbot()\n",
    "    def runbot(self):\n",
    "        exit_conditions = (\":q\", \"quit\", \"exit\")\n",
    "        print('Welcome to MGM Loyalty Chat, How may I help?')\n",
    "        while True:\n",
    "            query = input(\"> \")\n",
    "            if query in exit_conditions:\n",
    "                break\n",
    "            else:\n",
    "                print(f\"Bot: {self.bot.get_response(query)}\")\n",
    "       \n",
    "    def TrainBot(self,*conversations):\n",
    "        self.trainor.train(conversations)\n",
    "    def refreshChatData(self):\n",
    "        self.bot.storage.drop()\n",
    "\n"
   ]
  },
  {
   "cell_type": "code",
   "execution_count": 35,
   "metadata": {},
   "outputs": [
    {
     "name": "stderr",
     "output_type": "stream",
     "text": [
      "[nltk_data] Downloading package averaged_perceptron_tagger to\n",
      "[nltk_data]     C:\\Users\\jgoeken\\AppData\\Roaming\\nltk_data...\n",
      "[nltk_data]   Package averaged_perceptron_tagger is already up-to-\n",
      "[nltk_data]       date!\n",
      "[nltk_data] Downloading package punkt to\n",
      "[nltk_data]     C:\\Users\\jgoeken\\AppData\\Roaming\\nltk_data...\n",
      "[nltk_data]   Package punkt is already up-to-date!\n",
      "[nltk_data] Downloading package stopwords to\n",
      "[nltk_data]     C:\\Users\\jgoeken\\AppData\\Roaming\\nltk_data...\n",
      "[nltk_data]   Package stopwords is already up-to-date!\n"
     ]
    },
    {
     "name": "stdout",
     "output_type": "stream",
     "text": [
      "Welcome to MGM Loyalty Chat, How may I help?\n",
      "Bot: What report would you like?\n",
      "Bot: What report would you like?\n"
     ]
    }
   ],
   "source": [
    "mybot = chatbot('LEAI')\n",
    "\n",
    "\n"
   ]
  },
  {
   "cell_type": "code",
   "execution_count": 32,
   "metadata": {},
   "outputs": [
    {
     "name": "stdout",
     "output_type": "stream",
     "text": [
      "List Trainer: [####################] 100%\n"
     ]
    }
   ],
   "source": [
    "mybot.TrainBot('report','What report would you like?')"
   ]
  },
  {
   "cell_type": "code",
   "execution_count": 31,
   "metadata": {},
   "outputs": [],
   "source": [
    "mybot.refreshChatData()"
   ]
  },
  {
   "attachments": {},
   "cell_type": "markdown",
   "metadata": {},
   "source": []
  }
 ],
 "metadata": {
  "kernelspec": {
   "display_name": "Python 3",
   "language": "python",
   "name": "python3"
  },
  "language_info": {
   "codemirror_mode": {
    "name": "ipython",
    "version": 3
   },
   "file_extension": ".py",
   "mimetype": "text/x-python",
   "name": "python",
   "nbconvert_exporter": "python",
   "pygments_lexer": "ipython3",
   "version": "3.7.7"
  },
  "orig_nbformat": 4
 },
 "nbformat": 4,
 "nbformat_minor": 2
}
